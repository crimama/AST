{
 "cells": [
  {
   "cell_type": "code",
   "execution_count": 1,
   "metadata": {},
   "outputs": [
    {
     "name": "stdout",
     "output_type": "stream",
     "text": [
      "my_experiment\n"
     ]
    },
    {
     "name": "stderr",
     "output_type": "stream",
     "text": [
      "/usr/local/lib/python3.8/dist-packages/tqdm/auto.py:22: TqdmWarning: IProgress not found. Please update jupyter and ipywidgets. See https://ipywidgets.readthedocs.io/en/stable/user_install.html\n",
      "  from .autonotebook import tqdm as notebook_tqdm\n"
     ]
    }
   ],
   "source": [
    "import config as c \n",
    "from src.data import CombiDataset,make_loader,downsampling\n",
    "from src.model import Model \n",
    "from src.freia_funcs import * \n",
    "from src.utils import * \n",
    "from tqdm import tqdm \n",
    "import tifffile  \n",
    "import os \n",
    "import pandas as pd \n",
    "import torch.nn.functional as F \n",
    "import torch.nn as nn \n",
    "c.device = 'cuda:1'"
   ]
  },
  {
   "cell_type": "code",
   "execution_count": 2,
   "metadata": {},
   "outputs": [],
   "source": [
    "import resnet\n",
    "\n",
    "encoder,bn = resnet.wide_resnet101_2()\n",
    "encoder = encoder.to(c.device)"
   ]
  },
  {
   "cell_type": "code",
   "execution_count": 3,
   "metadata": {},
   "outputs": [],
   "source": [
    "from torchvision.datasets import ImageFolder\n",
    "from src.data import * \n",
    "\n",
    "def load_rgb_dataset(dataset_dir,class_name,train='train'):\n",
    "    img_transform = transforms.Compose([transforms.ToTensor(),\n",
    "                                        transforms.Resize((384)),\n",
    "                                        transforms.Normalize(c.norm_mean,c.norm_std)])\n",
    "    valid_img = (lambda x: 'rgb' in x and x.endswith('png'))\n",
    "    if 'MVtecAD' in dataset_dir.split('/'):\n",
    "        dataset = ImageFolder(os.path.join(dataset_dir,class_name,train),transform=img_transform)\n",
    "    else:\n",
    "        dataset = ImageFolder(os.path.join(dataset_dir,class_name,train),transform=img_transform,is_valid_file = valid_img)\n",
    "    return dataset \n",
    "\n",
    "dataset = load_rgb_dataset(c.dataset_dir,'bottle',train='train')\n",
    "loader = make_loader(dataset,shuffle=False)"
   ]
  },
  {
   "cell_type": "code",
   "execution_count": 11,
   "metadata": {},
   "outputs": [],
   "source": [
    "for data in loader:\n",
    "    img,label = to_device(data,c.device)\n",
    "    with torch.no_grad():\n",
    "        z = encoder(img)\n",
    "    break \n",
    "\n",
    "unshuffle1 = nn.PixelUnshuffle(4)\n",
    "unshuffle2 = nn.PixelUnshuffle(2)\n",
    "z_0 =  unshuffle1(z[0])\n",
    "z_1 = unshuffle2(z[1])\n",
    "z_2 = z[2]\n",
    "z = torch.concat([z_0,z_1,z_2],dim=1)\n"
   ]
  },
  {
   "cell_type": "code",
   "execution_count": 22,
   "metadata": {},
   "outputs": [],
   "source": [
    "from src.model import * \n",
    "\n",
    "nf = get_nf(input_dim=7168).to(c.device)"
   ]
  },
  {
   "cell_type": "code",
   "execution_count": 23,
   "metadata": {},
   "outputs": [
    {
     "data": {
      "text/plain": [
       "torch.Size([8, 7168, 24, 24])"
      ]
     },
     "execution_count": 23,
     "metadata": {},
     "output_type": "execute_result"
    }
   ],
   "source": [
    "nf(z).shape"
   ]
  }
 ],
 "metadata": {
  "kernelspec": {
   "display_name": "Python 3 (ipykernel)",
   "language": "python",
   "name": "python3"
  },
  "language_info": {
   "codemirror_mode": {
    "name": "ipython",
    "version": 3
   },
   "file_extension": ".py",
   "mimetype": "text/x-python",
   "name": "python",
   "nbconvert_exporter": "python",
   "pygments_lexer": "ipython3",
   "version": "3.8.10"
  },
  "orig_nbformat": 4
 },
 "nbformat": 4,
 "nbformat_minor": 2
}
