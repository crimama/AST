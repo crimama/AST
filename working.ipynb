{
 "cells": [
  {
   "cell_type": "code",
   "execution_count": 1,
   "metadata": {},
   "outputs": [
    {
     "name": "stdout",
     "output_type": "stream",
     "text": [
      "my_experiment\n"
     ]
    },
    {
     "name": "stderr",
     "output_type": "stream",
     "text": [
      "/usr/local/lib/python3.8/dist-packages/tqdm/auto.py:22: TqdmWarning: IProgress not found. Please update jupyter and ipywidgets. See https://ipywidgets.readthedocs.io/en/stable/user_install.html\n",
      "  from .autonotebook import tqdm as notebook_tqdm\n"
     ]
    }
   ],
   "source": [
    "import config as c \n",
    "from src.data import CombiDataset,make_loader,downsampling\n",
    "from src.model import Model \n",
    "from src.freia_funcs import * \n",
    "from src.utils import * \n",
    "from tqdm import tqdm \n",
    "import tifffile  \n",
    "import os \n",
    "import pandas as pd \n",
    "import torch.nn.functional as F \n"
   ]
  },
  {
   "attachments": {},
   "cell_type": "markdown",
   "metadata": {},
   "source": [
    "# Train Teacher "
   ]
  },
  {
   "cell_type": "code",
   "execution_count": null,
   "metadata": {},
   "outputs": [],
   "source": [
    "from train_teacher import train as train_teacher \n",
    "all_classes = [d for d in os.listdir(c.dataset_dir) if os.path.isdir(os.path.join(c.dataset_dir, d))]\n",
    "all_classes.remove('.ipynb_checkpoints')\n",
    "all_classes.remove('split_csv')\n",
    "\n",
    "dataset_dir = c.dataset_dir\n",
    "mode = 'feature'\n",
    "train = 'train'\n",
    "\n",
    "#for class_name in all_classes:\n",
    "for class_name in ['cable']:\n",
    "    print(f'\\n Class : {class_name}')\n",
    "    save_dir = os.path.join('./saved_models',dataset_dir.split('/')[-1],class_name)\n",
    "    \n",
    "    trainset = CombiDataset(dataset_dir,class_name,mode,train,device=c.device)\n",
    "    trainloader = make_loader(trainset,shuffle=True)\n",
    "    \n",
    "    teacher = Model().to(c.device)\n",
    "    train_teacher(teacher,trainloader,save_dir)"
   ]
  },
  {
   "cell_type": "code",
   "execution_count": null,
   "metadata": {},
   "outputs": [],
   "source": [
    "from train_teacher import train as train_teacher \n",
    "\n",
    "class_name = 'cable'\n",
    "mode = c.data_mode\n",
    "train='train'\n",
    "save_dir = os.path.join('./saved_models',c.dataset_dir.split('/')[-1],class_name)\n",
    "trainset = CombiDataset(c.dataset_dir,class_name,mode,train,device=c.device)\n",
    "trainloader = make_loader(trainset,shuffle=True)\n",
    "\n",
    "teacher = torch.load(f'./saved_models/MVtecAD/{class_name}/teacher_best.pt').to(c.device)\n",
    "train_teacher(teacher,trainloader,save_dir)"
   ]
  },
  {
   "cell_type": "markdown",
   "metadata": {},
   "source": [
    "# Train Student "
   ]
  },
  {
   "cell_type": "code",
   "execution_count": null,
   "metadata": {},
   "outputs": [],
   "source": [
    "from train_student import train as train_student\n",
    "all_classes = [d for d in os.listdir(c.dataset_dir) if os.path.isdir(os.path.join(c.dataset_dir, d))]\n",
    "all_classes.remove('.ipynb_checkpoints')\n",
    "all_classes.remove('split_csv')\n",
    "#for class_name in all_classes:\n",
    "for class_name in ['bottle']:\n",
    "    print(f'\\t Class : {class_name}')\n",
    "    save_dir = os.path.join('./saved_models',dataset_dir.split('/')[-1],class_name) \n",
    "    teacher = torch.load(f'./saved_models/MVtecAD/{class_name}/teacher_best.pt').to(c.device)\n",
    "    student = Model(nf=not c.asymmetric_student, channels_hidden=c.channels_hidden_student, n_blocks=c.n_st_blocks).to(c.device)\n",
    "    train_student(teacher,student,trainloader,save_dir)"
   ]
  },
  {
   "cell_type": "markdown",
   "metadata": {},
   "source": [
    "# Eval "
   ]
  },
  {
   "cell_type": "code",
   "execution_count": 1,
   "metadata": {},
   "outputs": [
    {
     "name": "stdout",
     "output_type": "stream",
     "text": [
      "my_experiment\n"
     ]
    },
    {
     "name": "stderr",
     "output_type": "stream",
     "text": [
      "/usr/local/lib/python3.8/dist-packages/tqdm/auto.py:22: TqdmWarning: IProgress not found. Please update jupyter and ipywidgets. See https://ipywidgets.readthedocs.io/en/stable/user_install.html\n",
      "  from .autonotebook import tqdm as notebook_tqdm\n"
     ]
    },
    {
     "name": "stdout",
     "output_type": "stream",
     "text": [
      "\n",
      " Class : leather\n",
      "Loaded pretrained weights for efficientnet-b5\n",
      "\n",
      " Class : zipper\n",
      "Loaded pretrained weights for efficientnet-b5\n",
      "\n",
      " Class : metal_nut\n",
      "Loaded pretrained weights for efficientnet-b5\n",
      "\n",
      " Class : wood\n",
      "Loaded pretrained weights for efficientnet-b5\n",
      "\n",
      " Class : pill\n",
      "Loaded pretrained weights for efficientnet-b5\n",
      "\n",
      " Class : transistor\n",
      "Loaded pretrained weights for efficientnet-b5\n",
      "\n",
      " Class : grid\n",
      "Loaded pretrained weights for efficientnet-b5\n",
      "\n",
      " Class : tile\n",
      "Loaded pretrained weights for efficientnet-b5\n",
      "\n",
      " Class : capsule\n",
      "Loaded pretrained weights for efficientnet-b5\n",
      "\n",
      " Class : hazelnut\n",
      "Loaded pretrained weights for efficientnet-b5\n",
      "\n",
      " Class : toothbrush\n",
      "Loaded pretrained weights for efficientnet-b5\n",
      "\n",
      " Class : screw\n",
      "Loaded pretrained weights for efficientnet-b5\n",
      "\n",
      " Class : carpet\n",
      "Loaded pretrained weights for efficientnet-b5\n",
      "\n",
      " Class : bottle\n",
      "Loaded pretrained weights for efficientnet-b5\n",
      "\n",
      " Class : cable\n",
      "Loaded pretrained weights for efficientnet-b5\n"
     ]
    }
   ],
   "source": [
    "import config as c \n",
    "from src.data import CombiDataset,make_loader,downsampling\n",
    "from src.model import Model \n",
    "from src.freia_funcs import * \n",
    "from src.utils import * \n",
    "from tqdm import tqdm \n",
    "import tifffile  \n",
    "import os \n",
    "import pandas as pd \n",
    "import torch.nn.functional as F \n",
    "\n",
    "from eval import eval \n",
    "score = {} \n",
    "all_classes = [d for d in os.listdir(c.dataset_dir) if os.path.isdir(os.path.join(c.dataset_dir, d))]\n",
    "all_classes.remove('.ipynb_checkpoints')\n",
    "all_classes.remove('split_csv')\n",
    "dataset_dir = c.dataset_dir\n",
    "mode = c.data_mode\n",
    "for class_name in all_classes:\n",
    "#for class_name in ['grid']:\n",
    "    print(f'\\n Class : {class_name}')\n",
    "    save_dir = os.path.join('./saved_models',dataset_dir.split('/')[-1],class_name)\n",
    "\n",
    "\n",
    "    testset = CombiDataset(dataset_dir,class_name,mode,'test',device=c.device)\n",
    "    testloader = make_loader(testset)\n",
    "\n",
    "    teacher = torch.load(f'./saved_models/MVtecAD/{class_name}/teacher_best.pt')\n",
    "    student = torch.load(f'./saved_models/MVtecAD/{class_name}/student_best.pt')\n",
    "\n",
    "    mean_img_auc,max_img_auc = eval(teacher,student,testloader)\n",
    "    score[class_name] = {'max' : max_img_auc,'mean' : mean_img_auc}\n",
    "    \n",
    "    "
   ]
  },
  {
   "cell_type": "code",
   "execution_count": 9,
   "metadata": {},
   "outputs": [
    {
     "data": {
      "text/plain": [
       "{'leather': {'max': 1.0, 'mean': 1.0},\n",
       " 'zipper': {'max': 0.9774159663865547, 'mean': 0.9908088235294118},\n",
       " 'metal_nut': {'max': 0.998533724340176, 'mean': 0.9902248289345064},\n",
       " 'wood': {'max': 0.9271929824561403, 'mean': 0.7956140350877193},\n",
       " 'pill': {'max': 0.70949263502455, 'mean': 0.8876159301691215},\n",
       " 'transistor': {'max': 0.44166666666666665, 'mean': 0.6449999999999999},\n",
       " 'grid': {'max': 0.6516290726817043, 'mean': 0.4862155388471178},\n",
       " 'tile': {'max': 0.7763347763347763, 'mean': 0.9318181818181819},\n",
       " 'capsule': {'max': 0.5053849222177902, 'mean': 0.4148384523334663},\n",
       " 'hazelnut': {'max': 0.73, 'mean': 0.91},\n",
       " 'toothbrush': {'max': 0.675, 'mean': 0.8833333333333333},\n",
       " 'screw': {'max': 0.477146956343513, 'mean': 0.7511785201885632},\n",
       " 'carpet': {'max': 0.9414125200642054, 'mean': 0.7608346709470305},\n",
       " 'bottle': {'max': 0.5547619047619048, 'mean': 0.6428571428571428},\n",
       " 'cable': {'max': 0.9190404797601199, 'mean': 0.9891304347826086}}"
      ]
     },
     "execution_count": 9,
     "metadata": {},
     "output_type": "execute_result"
    }
   ],
   "source": [
    "score"
   ]
  },
  {
   "cell_type": "code",
   "execution_count": 2,
   "metadata": {},
   "outputs": [
    {
     "data": {
      "text/plain": [
       "{'leather': {'max': 1.0, 'mean': 1.0},\n",
       " 'zipper': {'max': 0.9774159663865547, 'mean': 0.9908088235294118},\n",
       " 'metal_nut': {'max': 0.9956011730205279, 'mean': 0.989247311827957},\n",
       " 'wood': {'max': 0.9921052631578947, 'mean': 0.987719298245614},\n",
       " 'pill': {'max': 0.9639934533551554, 'mean': 0.9923622476813967},\n",
       " 'transistor': {'max': 0.9870833333333333, 'mean': 0.9895833333333334},\n",
       " 'grid': {'max': 0.9991645781119465, 'mean': 0.9899749373433584},\n",
       " 'tile': {'max': 0.996031746031746, 'mean': 0.9992784992784993},\n",
       " 'capsule': {'max': 0.9712804148384523, 'mean': 0.9924212205823694},\n",
       " 'hazelnut': {'max': 0.9971428571428572, 'mean': 0.9982142857142857},\n",
       " 'toothbrush': {'max': 0.8638888888888889, 'mean': 0.9611111111111111},\n",
       " 'screw': {'max': 0.9442508710801394, 'mean': 0.9928263988522238},\n",
       " 'carpet': {'max': 0.9719101123595505, 'mean': 0.9723113964686999},\n",
       " 'bottle': {'max': 0.9944444444444445, 'mean': 0.9976190476190476},\n",
       " 'cable': {'max': 0.9390929535232384, 'mean': 0.9917541229385307}}"
      ]
     },
     "execution_count": 2,
     "metadata": {},
     "output_type": "execute_result"
    }
   ],
   "source": [
    "score"
   ]
  },
  {
   "cell_type": "code",
   "execution_count": 4,
   "metadata": {},
   "outputs": [
    {
     "name": "stdout",
     "output_type": "stream",
     "text": [
      "97.28937370449819\n",
      "98.96821356350557\n"
     ]
    }
   ],
   "source": [
    "mean_value = [] \n",
    "max_value = [] \n",
    "for i in score.keys():\n",
    "    mean_value.append(score[i]['mean'])\n",
    "    max_value.append(score[i]['max'])\n",
    "print(np.mean(max_value)*100)\n",
    "print(np.mean(mean_value)*100)"
   ]
  },
  {
   "cell_type": "code",
   "execution_count": 18,
   "metadata": {},
   "outputs": [
    {
     "data": {
      "text/html": [
       "<div>\n",
       "<style scoped>\n",
       "    .dataframe tbody tr th:only-of-type {\n",
       "        vertical-align: middle;\n",
       "    }\n",
       "\n",
       "    .dataframe tbody tr th {\n",
       "        vertical-align: top;\n",
       "    }\n",
       "\n",
       "    .dataframe thead th {\n",
       "        text-align: right;\n",
       "    }\n",
       "</style>\n",
       "<table border=\"1\" class=\"dataframe\">\n",
       "  <thead>\n",
       "    <tr style=\"text-align: right;\">\n",
       "      <th></th>\n",
       "      <th>mean</th>\n",
       "      <th>max</th>\n",
       "    </tr>\n",
       "  </thead>\n",
       "  <tbody>\n",
       "    <tr>\n",
       "      <th>leather</th>\n",
       "      <td>1.000000</td>\n",
       "      <td>1.000000</td>\n",
       "    </tr>\n",
       "    <tr>\n",
       "      <th>zipper</th>\n",
       "      <td>0.990809</td>\n",
       "      <td>0.977416</td>\n",
       "    </tr>\n",
       "    <tr>\n",
       "      <th>metal_nut</th>\n",
       "      <td>0.989247</td>\n",
       "      <td>0.995601</td>\n",
       "    </tr>\n",
       "    <tr>\n",
       "      <th>wood</th>\n",
       "      <td>0.987719</td>\n",
       "      <td>0.992105</td>\n",
       "    </tr>\n",
       "    <tr>\n",
       "      <th>pill</th>\n",
       "      <td>0.992362</td>\n",
       "      <td>0.963993</td>\n",
       "    </tr>\n",
       "    <tr>\n",
       "      <th>transistor</th>\n",
       "      <td>0.989583</td>\n",
       "      <td>0.987083</td>\n",
       "    </tr>\n",
       "    <tr>\n",
       "      <th>grid</th>\n",
       "      <td>0.989975</td>\n",
       "      <td>0.999165</td>\n",
       "    </tr>\n",
       "    <tr>\n",
       "      <th>tile</th>\n",
       "      <td>0.999278</td>\n",
       "      <td>0.996032</td>\n",
       "    </tr>\n",
       "    <tr>\n",
       "      <th>capsule</th>\n",
       "      <td>0.992421</td>\n",
       "      <td>0.971280</td>\n",
       "    </tr>\n",
       "    <tr>\n",
       "      <th>hazelnut</th>\n",
       "      <td>0.998214</td>\n",
       "      <td>0.997143</td>\n",
       "    </tr>\n",
       "    <tr>\n",
       "      <th>toothbrush</th>\n",
       "      <td>0.961111</td>\n",
       "      <td>0.863889</td>\n",
       "    </tr>\n",
       "    <tr>\n",
       "      <th>screw</th>\n",
       "      <td>0.992826</td>\n",
       "      <td>0.944251</td>\n",
       "    </tr>\n",
       "    <tr>\n",
       "      <th>carpet</th>\n",
       "      <td>0.972311</td>\n",
       "      <td>0.971910</td>\n",
       "    </tr>\n",
       "    <tr>\n",
       "      <th>bottle</th>\n",
       "      <td>0.997619</td>\n",
       "      <td>0.994444</td>\n",
       "    </tr>\n",
       "    <tr>\n",
       "      <th>cable</th>\n",
       "      <td>0.991754</td>\n",
       "      <td>0.939093</td>\n",
       "    </tr>\n",
       "  </tbody>\n",
       "</table>\n",
       "</div>"
      ],
      "text/plain": [
       "                mean       max\n",
       "leather     1.000000  1.000000\n",
       "zipper      0.990809  0.977416\n",
       "metal_nut   0.989247  0.995601\n",
       "wood        0.987719  0.992105\n",
       "pill        0.992362  0.963993\n",
       "transistor  0.989583  0.987083\n",
       "grid        0.989975  0.999165\n",
       "tile        0.999278  0.996032\n",
       "capsule     0.992421  0.971280\n",
       "hazelnut    0.998214  0.997143\n",
       "toothbrush  0.961111  0.863889\n",
       "screw       0.992826  0.944251\n",
       "carpet      0.972311  0.971910\n",
       "bottle      0.997619  0.994444\n",
       "cable       0.991754  0.939093"
      ]
     },
     "execution_count": 18,
     "metadata": {},
     "output_type": "execute_result"
    }
   ],
   "source": [
    "df = pd.DataFrame([mean_value,max_value]).T\n",
    "df.columns = ['mean','max']\n",
    "df.index = score.keys()\n",
    "df"
   ]
  }
 ],
 "metadata": {
  "kernelspec": {
   "display_name": "Python 3 (ipykernel)",
   "language": "python",
   "name": "python3"
  },
  "language_info": {
   "codemirror_mode": {
    "name": "ipython",
    "version": 3
   },
   "file_extension": ".py",
   "mimetype": "text/x-python",
   "name": "python",
   "nbconvert_exporter": "python",
   "pygments_lexer": "ipython3",
   "version": "3.8.10"
  }
 },
 "nbformat": 4,
 "nbformat_minor": 4
}
