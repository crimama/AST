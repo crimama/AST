{
 "cells": [
  {
   "cell_type": "code",
   "execution_count": 1,
   "metadata": {},
   "outputs": [
    {
     "name": "stdout",
     "output_type": "stream",
     "text": [
      "my_experiment\n"
     ]
    },
    {
     "name": "stderr",
     "output_type": "stream",
     "text": [
      "/usr/local/lib/python3.7/site-packages/tqdm/auto.py:22: TqdmWarning: IProgress not found. Please update jupyter and ipywidgets. See https://ipywidgets.readthedocs.io/en/stable/user_install.html\n",
      "  from .autonotebook import tqdm as notebook_tqdm\n"
     ]
    }
   ],
   "source": [
    "import config as c \n",
    "from src.data import CombiDataset,make_loader,downsampling\n",
    "from src.model import Model \n",
    "from src.freia_funcs import * \n",
    "from src.utils import * \n",
    "import os \n",
    "import torch.nn.functional as F \n",
    "import matplotlib.pyplot as plt \n",
    "from torchvision import transforms \n"
   ]
  },
  {
   "cell_type": "markdown",
   "metadata": {},
   "source": [
    "# Train Teacher "
   ]
  },
  {
   "cell_type": "code",
   "execution_count": 2,
   "metadata": {},
   "outputs": [
    {
     "name": "stdout",
     "output_type": "stream",
     "text": [
      "\n",
      " Class : bottle\n",
      "Loaded pretrained weights for efficientnet-b5\n"
     ]
    },
    {
     "name": "stderr",
     "output_type": "stream",
     "text": [
      "Failed to detect the name of this notebook, you can set it manually with the WANDB_NOTEBOOK_NAME environment variable to enable code saving.\n",
      "\u001b[34m\u001b[1mwandb\u001b[0m: Currently logged in as: \u001b[33mcrimama-\u001b[0m. Use \u001b[1m`wandb login --relogin`\u001b[0m to force relogin\n"
     ]
    },
    {
     "data": {
      "text/html": [
       "Tracking run with wandb version 0.14.0"
      ],
      "text/plain": [
       "<IPython.core.display.HTML object>"
      ]
     },
     "metadata": {},
     "output_type": "display_data"
    },
    {
     "data": {
      "text/html": [
       "Run data is saved locally in <code>/Volume/VAD/ASt_2d/wandb/run-20230329_084503-ptzbllt3</code>"
      ],
      "text/plain": [
       "<IPython.core.display.HTML object>"
      ]
     },
     "metadata": {},
     "output_type": "display_data"
    },
    {
     "data": {
      "text/html": [
       "Syncing run <strong><a href='https://wandb.ai/crimama-/ASt_2d/runs/ptzbllt3' target=\"_blank\">bottle_teacher</a></strong> to <a href='https://wandb.ai/crimama-/ASt_2d' target=\"_blank\">Weights & Biases</a> (<a href='https://wandb.me/run' target=\"_blank\">docs</a>)<br/>"
      ],
      "text/plain": [
       "<IPython.core.display.HTML object>"
      ]
     },
     "metadata": {},
     "output_type": "display_data"
    },
    {
     "data": {
      "text/html": [
       " View project at <a href='https://wandb.ai/crimama-/ASt_2d' target=\"_blank\">https://wandb.ai/crimama-/ASt_2d</a>"
      ],
      "text/plain": [
       "<IPython.core.display.HTML object>"
      ]
     },
     "metadata": {},
     "output_type": "display_data"
    },
    {
     "data": {
      "text/html": [
       " View run at <a href='https://wandb.ai/crimama-/ASt_2d/runs/ptzbllt3' target=\"_blank\">https://wandb.ai/crimama-/ASt_2d/runs/ptzbllt3</a>"
      ],
      "text/plain": [
       "<IPython.core.display.HTML object>"
      ]
     },
     "metadata": {},
     "output_type": "display_data"
    },
    {
     "name": "stderr",
     "output_type": "stream",
     "text": [
      "  0%|          | 0/30 [00:00<?, ?it/s]"
     ]
    },
    {
     "name": "stdout",
     "output_type": "stream",
     "text": [
      "\n",
      "Train epoch 0\n",
      "Epoch: 0.0 \t train loss: 4596.6450\n",
      "Epoch: 0.4 \t train loss: 678.7530\n",
      "Epoch: 0.8 \t train loss: 661.9789\n",
      "Epoch: 0.12 \t train loss: 645.4250\n",
      "Epoch: 0.16 \t train loss: 629.9799\n",
      "Epoch: 0.20 \t train loss: 614.7950\n"
     ]
    },
    {
     "name": "stderr",
     "output_type": "stream",
     "text": [
      "  3%|▎         | 1/30 [00:28<14:00, 28.99s/it]"
     ]
    },
    {
     "name": "stdout",
     "output_type": "stream",
     "text": [
      "\n",
      "Train epoch 1\n",
      "Epoch: 1.0 \t train loss: 600.7878\n",
      "Epoch: 1.4 \t train loss: 584.9424\n",
      "Epoch: 1.8 \t train loss: 570.2390\n",
      "Epoch: 1.12 \t train loss: 556.2640\n",
      "Epoch: 1.16 \t train loss: 544.8194\n",
      "Epoch: 1.20 \t train loss: 535.4285\n"
     ]
    },
    {
     "name": "stderr",
     "output_type": "stream",
     "text": [
      "  7%|▋         | 2/30 [00:46<10:14, 21.94s/it]"
     ]
    },
    {
     "name": "stdout",
     "output_type": "stream",
     "text": [
      "\n",
      "Train epoch 2\n",
      "Epoch: 2.0 \t train loss: 526.4472\n",
      "Epoch: 2.4 \t train loss: 520.3386\n",
      "Epoch: 2.8 \t train loss: 514.9846\n",
      "Epoch: 2.12 \t train loss: 509.7874\n",
      "Epoch: 2.16 \t train loss: 505.2266\n",
      "Epoch: 2.20 \t train loss: 501.2007\n"
     ]
    },
    {
     "name": "stderr",
     "output_type": "stream",
     "text": [
      " 10%|█         | 3/30 [01:02<08:48, 19.57s/it]"
     ]
    },
    {
     "name": "stdout",
     "output_type": "stream",
     "text": [
      "\n",
      "Train epoch 3\n",
      "Epoch: 3.0 \t train loss: 497.9312\n",
      "Epoch: 3.4 \t train loss: 494.7097\n",
      "Epoch: 3.8 \t train loss: 492.0699\n",
      "Epoch: 3.12 \t train loss: 489.1619\n",
      "Epoch: 3.16 \t train loss: 486.7767\n",
      "Epoch: 3.20 \t train loss: 484.6170\n"
     ]
    },
    {
     "name": "stderr",
     "output_type": "stream",
     "text": [
      " 13%|█▎        | 4/30 [01:19<07:59, 18.45s/it]"
     ]
    },
    {
     "name": "stdout",
     "output_type": "stream",
     "text": [
      "\n",
      "Train epoch 4\n",
      "Epoch: 4.0 \t train loss: 481.9935\n",
      "Epoch: 4.4 \t train loss: 479.9248\n",
      "Epoch: 4.8 \t train loss: 478.2302\n",
      "Epoch: 4.12 \t train loss: 476.0470\n",
      "Epoch: 4.16 \t train loss: 474.0006\n",
      "Epoch: 4.20 \t train loss: 473.0208\n"
     ]
    },
    {
     "name": "stderr",
     "output_type": "stream",
     "text": [
      " 17%|█▋        | 5/30 [01:36<07:27, 17.90s/it]"
     ]
    },
    {
     "name": "stdout",
     "output_type": "stream",
     "text": [
      "\n",
      "Train epoch 5\n",
      "Epoch: 5.0 \t train loss: 471.5876\n",
      "Epoch: 5.4 \t train loss: 469.2549\n",
      "Epoch: 5.8 \t train loss: 467.6562\n",
      "Epoch: 5.12 \t train loss: 466.2915\n",
      "Epoch: 5.16 \t train loss: 464.4844\n",
      "Epoch: 5.20 \t train loss: 463.6805\n"
     ]
    },
    {
     "name": "stderr",
     "output_type": "stream",
     "text": [
      " 20%|██        | 6/30 [01:53<07:00, 17.51s/it]"
     ]
    },
    {
     "name": "stdout",
     "output_type": "stream",
     "text": [
      "\n",
      "Train epoch 6\n",
      "Epoch: 6.0 \t train loss: 462.4527\n",
      "Epoch: 6.4 \t train loss: 460.5912\n",
      "Epoch: 6.8 \t train loss: 458.8752\n",
      "Epoch: 6.12 \t train loss: 457.6003\n",
      "Epoch: 6.16 \t train loss: 456.8432\n",
      "Epoch: 6.20 \t train loss: 455.8381\n"
     ]
    },
    {
     "name": "stderr",
     "output_type": "stream",
     "text": [
      " 23%|██▎       | 7/30 [02:09<06:37, 17.27s/it]"
     ]
    },
    {
     "name": "stdout",
     "output_type": "stream",
     "text": [
      "\n",
      "Train epoch 7\n",
      "Epoch: 7.0 \t train loss: 453.9195\n",
      "Epoch: 7.4 \t train loss: 452.6974\n",
      "Epoch: 7.8 \t train loss: 451.3752\n",
      "Epoch: 7.12 \t train loss: 450.0843\n",
      "Epoch: 7.16 \t train loss: 449.0875\n",
      "Epoch: 7.20 \t train loss: 447.8883\n"
     ]
    },
    {
     "name": "stderr",
     "output_type": "stream",
     "text": [
      " 27%|██▋       | 8/30 [02:26<06:16, 17.09s/it]"
     ]
    },
    {
     "name": "stdout",
     "output_type": "stream",
     "text": [
      "\n",
      "Train epoch 8\n",
      "Epoch: 8.0 \t train loss: 446.3539\n",
      "Epoch: 8.4 \t train loss: 445.4129\n",
      "Epoch: 8.8 \t train loss: 444.4829\n",
      "Epoch: 8.12 \t train loss: 442.9225\n",
      "Epoch: 8.16 \t train loss: 442.0484\n",
      "Epoch: 8.20 \t train loss: 441.0809\n"
     ]
    },
    {
     "name": "stderr",
     "output_type": "stream",
     "text": [
      " 30%|███       | 9/30 [02:43<05:56, 16.99s/it]"
     ]
    },
    {
     "name": "stdout",
     "output_type": "stream",
     "text": [
      "\n",
      "Train epoch 9\n",
      "Epoch: 9.0 \t train loss: 440.4975\n",
      "Epoch: 9.4 \t train loss: 438.4197\n",
      "Epoch: 9.8 \t train loss: 439.2289\n",
      "Epoch: 9.12 \t train loss: 436.8467\n",
      "Epoch: 9.16 \t train loss: 435.5549\n",
      "Epoch: 9.20 \t train loss: 434.8163\n"
     ]
    },
    {
     "name": "stderr",
     "output_type": "stream",
     "text": [
      " 33%|███▎      | 10/30 [03:00<05:38, 16.93s/it]"
     ]
    },
    {
     "name": "stdout",
     "output_type": "stream",
     "text": [
      "\n",
      "Train epoch 10\n",
      "Epoch: 10.0 \t train loss: 434.0693\n",
      "Epoch: 10.4 \t train loss: 432.9165\n",
      "Epoch: 10.8 \t train loss: 431.8802\n",
      "Epoch: 10.12 \t train loss: 431.2197\n",
      "Epoch: 10.16 \t train loss: 430.3791\n",
      "Epoch: 10.20 \t train loss: 429.7070\n"
     ]
    },
    {
     "name": "stderr",
     "output_type": "stream",
     "text": [
      " 37%|███▋      | 11/30 [03:16<05:19, 16.83s/it]"
     ]
    },
    {
     "name": "stdout",
     "output_type": "stream",
     "text": [
      "\n",
      "Train epoch 11\n",
      "Epoch: 11.0 \t train loss: 428.6291\n",
      "Epoch: 11.4 \t train loss: 427.6861\n",
      "Epoch: 11.8 \t train loss: 427.7085\n",
      "Epoch: 11.12 \t train loss: 427.0157\n",
      "Epoch: 11.16 \t train loss: 426.4020\n",
      "Epoch: 11.20 \t train loss: 425.6150\n"
     ]
    },
    {
     "name": "stderr",
     "output_type": "stream",
     "text": [
      " 40%|████      | 12/30 [03:33<05:02, 16.81s/it]"
     ]
    },
    {
     "name": "stdout",
     "output_type": "stream",
     "text": [
      "\n",
      "Train epoch 12\n",
      "Epoch: 12.0 \t train loss: 425.0247\n",
      "Epoch: 12.4 \t train loss: 424.6115\n",
      "Epoch: 12.8 \t train loss: 423.3768\n",
      "Epoch: 12.12 \t train loss: 422.9061\n",
      "Epoch: 12.16 \t train loss: 423.0502\n",
      "Epoch: 12.20 \t train loss: 422.0711\n"
     ]
    },
    {
     "name": "stderr",
     "output_type": "stream",
     "text": [
      " 43%|████▎     | 13/30 [03:50<04:48, 16.98s/it]"
     ]
    },
    {
     "name": "stdout",
     "output_type": "stream",
     "text": [
      "\n",
      "Train epoch 13\n",
      "Epoch: 13.0 \t train loss: 421.8018\n",
      "Epoch: 13.4 \t train loss: 421.1207\n",
      "Epoch: 13.8 \t train loss: 420.4536\n",
      "Epoch: 13.12 \t train loss: 420.9032\n",
      "Epoch: 13.16 \t train loss: 420.1212\n",
      "Epoch: 13.20 \t train loss: 419.4836\n"
     ]
    },
    {
     "name": "stderr",
     "output_type": "stream",
     "text": [
      " 47%|████▋     | 14/30 [04:07<04:29, 16.86s/it]"
     ]
    },
    {
     "name": "stdout",
     "output_type": "stream",
     "text": [
      "\n",
      "Train epoch 14\n",
      "Epoch: 14.0 \t train loss: 418.7554\n",
      "Epoch: 14.4 \t train loss: 417.9562\n",
      "Epoch: 14.8 \t train loss: 418.1656\n",
      "Epoch: 14.12 \t train loss: 417.1820\n",
      "Epoch: 14.16 \t train loss: 417.8018\n",
      "Epoch: 14.20 \t train loss: 416.8215\n"
     ]
    },
    {
     "name": "stderr",
     "output_type": "stream",
     "text": [
      " 50%|█████     | 15/30 [04:24<04:12, 16.83s/it]"
     ]
    },
    {
     "name": "stdout",
     "output_type": "stream",
     "text": [
      "\n",
      "Train epoch 15\n",
      "Epoch: 15.0 \t train loss: 416.3409\n",
      "Epoch: 15.4 \t train loss: 417.0547\n",
      "Epoch: 15.8 \t train loss: 415.5624\n",
      "Epoch: 15.12 \t train loss: 415.0230\n",
      "Epoch: 15.16 \t train loss: 414.6105\n",
      "Epoch: 15.20 \t train loss: 416.1080\n"
     ]
    },
    {
     "name": "stderr",
     "output_type": "stream",
     "text": [
      " 53%|█████▎    | 16/30 [04:40<03:54, 16.78s/it]"
     ]
    },
    {
     "name": "stdout",
     "output_type": "stream",
     "text": [
      "\n",
      "Train epoch 16\n",
      "Epoch: 16.0 \t train loss: 414.2869\n",
      "Epoch: 16.4 \t train loss: 413.7652\n",
      "Epoch: 16.8 \t train loss: 413.6135\n",
      "Epoch: 16.12 \t train loss: 413.2630\n",
      "Epoch: 16.16 \t train loss: 413.0556\n",
      "Epoch: 16.20 \t train loss: 413.2844\n"
     ]
    },
    {
     "name": "stderr",
     "output_type": "stream",
     "text": [
      " 57%|█████▋    | 17/30 [04:57<03:37, 16.73s/it]"
     ]
    },
    {
     "name": "stdout",
     "output_type": "stream",
     "text": [
      "\n",
      "Train epoch 17\n",
      "Epoch: 17.0 \t train loss: 412.4551\n",
      "Epoch: 17.4 \t train loss: 412.4438\n",
      "Epoch: 17.8 \t train loss: 412.3203\n",
      "Epoch: 17.12 \t train loss: 411.7881\n",
      "Epoch: 17.16 \t train loss: 411.3112\n",
      "Epoch: 17.20 \t train loss: 413.2835\n"
     ]
    },
    {
     "name": "stderr",
     "output_type": "stream",
     "text": [
      " 60%|██████    | 18/30 [05:14<03:21, 16.77s/it]"
     ]
    },
    {
     "name": "stdout",
     "output_type": "stream",
     "text": [
      "\n",
      "Train epoch 18\n",
      "Epoch: 18.0 \t train loss: 410.8193\n",
      "Epoch: 18.4 \t train loss: 410.5727\n",
      "Epoch: 18.8 \t train loss: 409.7146\n",
      "Epoch: 18.12 \t train loss: 409.7470\n",
      "Epoch: 18.16 \t train loss: 409.3156\n",
      "Epoch: 18.20 \t train loss: 409.8855\n"
     ]
    },
    {
     "name": "stderr",
     "output_type": "stream",
     "text": [
      " 63%|██████▎   | 19/30 [05:31<03:04, 16.74s/it]"
     ]
    },
    {
     "name": "stdout",
     "output_type": "stream",
     "text": [
      "\n",
      "Train epoch 19\n",
      "Epoch: 19.0 \t train loss: 409.3200\n",
      "Epoch: 19.4 \t train loss: 409.9113\n",
      "Epoch: 19.8 \t train loss: 409.0084\n",
      "Epoch: 19.12 \t train loss: 408.4014\n",
      "Epoch: 19.16 \t train loss: 408.9186\n",
      "Epoch: 19.20 \t train loss: 408.8473\n"
     ]
    },
    {
     "name": "stderr",
     "output_type": "stream",
     "text": [
      " 67%|██████▋   | 20/30 [05:47<02:47, 16.72s/it]"
     ]
    },
    {
     "name": "stdout",
     "output_type": "stream",
     "text": [
      "\n",
      "Train epoch 20\n",
      "Epoch: 20.0 \t train loss: 408.2830\n",
      "Epoch: 20.4 \t train loss: 407.5318\n",
      "Epoch: 20.8 \t train loss: 407.8779\n",
      "Epoch: 20.12 \t train loss: 407.9109\n",
      "Epoch: 20.16 \t train loss: 407.3987\n",
      "Epoch: 20.20 \t train loss: 407.8332\n"
     ]
    },
    {
     "name": "stderr",
     "output_type": "stream",
     "text": [
      " 70%|███████   | 21/30 [06:04<02:31, 16.82s/it]"
     ]
    },
    {
     "name": "stdout",
     "output_type": "stream",
     "text": [
      "\n",
      "Train epoch 21\n",
      "Epoch: 21.0 \t train loss: 406.2018\n",
      "Epoch: 21.4 \t train loss: 406.7681\n",
      "Epoch: 21.8 \t train loss: 406.6627\n",
      "Epoch: 21.12 \t train loss: 407.0332\n",
      "Epoch: 21.16 \t train loss: 405.7133\n",
      "Epoch: 21.20 \t train loss: 405.7724\n"
     ]
    },
    {
     "name": "stderr",
     "output_type": "stream",
     "text": [
      " 73%|███████▎  | 22/30 [06:21<02:14, 16.76s/it]"
     ]
    },
    {
     "name": "stdout",
     "output_type": "stream",
     "text": [
      "\n",
      "Train epoch 22\n",
      "Epoch: 22.0 \t train loss: 405.9000\n",
      "Epoch: 22.4 \t train loss: 405.1727\n",
      "Epoch: 22.8 \t train loss: 406.2497\n",
      "Epoch: 22.12 \t train loss: 405.3385\n",
      "Epoch: 22.16 \t train loss: 404.7712\n",
      "Epoch: 22.20 \t train loss: 405.6282\n"
     ]
    },
    {
     "name": "stderr",
     "output_type": "stream",
     "text": [
      " 77%|███████▋  | 23/30 [06:38<01:57, 16.74s/it]"
     ]
    },
    {
     "name": "stdout",
     "output_type": "stream",
     "text": [
      "\n",
      "Train epoch 23\n",
      "Epoch: 23.0 \t train loss: 404.5822\n",
      "Epoch: 23.4 \t train loss: 404.7232\n",
      "Epoch: 23.8 \t train loss: 404.0330\n",
      "Epoch: 23.12 \t train loss: 404.0009\n",
      "Epoch: 23.16 \t train loss: 404.2137\n",
      "Epoch: 23.20 \t train loss: 403.5880\n"
     ]
    },
    {
     "name": "stderr",
     "output_type": "stream",
     "text": [
      " 80%|████████  | 24/30 [06:54<01:40, 16.73s/it]"
     ]
    },
    {
     "name": "stdout",
     "output_type": "stream",
     "text": [
      "\n",
      "Train epoch 24\n",
      "Epoch: 24.0 \t train loss: 403.6967\n",
      "Epoch: 24.4 \t train loss: 403.5536\n",
      "Epoch: 24.8 \t train loss: 403.3081\n",
      "Epoch: 24.12 \t train loss: 403.0792\n",
      "Epoch: 24.16 \t train loss: 402.9104\n",
      "Epoch: 24.20 \t train loss: 403.1961\n"
     ]
    },
    {
     "name": "stderr",
     "output_type": "stream",
     "text": [
      " 83%|████████▎ | 25/30 [07:11<01:23, 16.75s/it]"
     ]
    },
    {
     "name": "stdout",
     "output_type": "stream",
     "text": [
      "\n",
      "Train epoch 25\n",
      "Epoch: 25.0 \t train loss: 402.6786\n",
      "Epoch: 25.4 \t train loss: 402.4715\n",
      "Epoch: 25.8 \t train loss: 402.4543\n",
      "Epoch: 25.12 \t train loss: 401.9746\n",
      "Epoch: 25.16 \t train loss: 401.7142\n",
      "Epoch: 25.20 \t train loss: 402.2113\n"
     ]
    },
    {
     "name": "stderr",
     "output_type": "stream",
     "text": [
      " 87%|████████▋ | 26/30 [07:28<01:06, 16.69s/it]"
     ]
    },
    {
     "name": "stdout",
     "output_type": "stream",
     "text": [
      "\n",
      "Train epoch 26\n",
      "Epoch: 26.0 \t train loss: 401.7509\n",
      "Epoch: 26.4 \t train loss: 401.4953\n",
      "Epoch: 26.8 \t train loss: 401.9231\n",
      "Epoch: 26.12 \t train loss: 402.5266\n",
      "Epoch: 26.16 \t train loss: 401.1301\n",
      "Epoch: 26.20 \t train loss: 401.8553\n"
     ]
    },
    {
     "name": "stderr",
     "output_type": "stream",
     "text": [
      " 90%|█████████ | 27/30 [07:44<00:50, 16.70s/it]"
     ]
    },
    {
     "name": "stdout",
     "output_type": "stream",
     "text": [
      "\n",
      "Train epoch 27\n",
      "Epoch: 27.0 \t train loss: 400.8707\n",
      "Epoch: 27.4 \t train loss: 400.8391\n",
      "Epoch: 27.8 \t train loss: 401.2238\n",
      "Epoch: 27.12 \t train loss: 400.3698\n",
      "Epoch: 27.16 \t train loss: 400.4408\n",
      "Epoch: 27.20 \t train loss: 400.2594\n"
     ]
    },
    {
     "name": "stderr",
     "output_type": "stream",
     "text": [
      " 93%|█████████▎| 28/30 [08:01<00:33, 16.68s/it]"
     ]
    },
    {
     "name": "stdout",
     "output_type": "stream",
     "text": [
      "\n",
      "Train epoch 28\n",
      "Epoch: 28.0 \t train loss: 400.8070\n",
      "Epoch: 28.4 \t train loss: 400.4898\n",
      "Epoch: 28.8 \t train loss: 400.6320\n",
      "Epoch: 28.12 \t train loss: 399.5942\n",
      "Epoch: 28.16 \t train loss: 401.0523\n",
      "Epoch: 28.20 \t train loss: 399.3038\n"
     ]
    },
    {
     "name": "stderr",
     "output_type": "stream",
     "text": [
      " 97%|█████████▋| 29/30 [08:18<00:16, 16.72s/it]"
     ]
    },
    {
     "name": "stdout",
     "output_type": "stream",
     "text": [
      "\n",
      "Train epoch 29\n",
      "Epoch: 29.0 \t train loss: 399.1186\n",
      "Epoch: 29.4 \t train loss: 400.4582\n",
      "Epoch: 29.8 \t train loss: 398.9713\n",
      "Epoch: 29.12 \t train loss: 399.0935\n",
      "Epoch: 29.16 \t train loss: 399.1996\n",
      "Epoch: 29.20 \t train loss: 399.0156\n"
     ]
    },
    {
     "name": "stderr",
     "output_type": "stream",
     "text": [
      "100%|██████████| 30/30 [08:35<00:00, 17.17s/it]\n"
     ]
    },
    {
     "data": {
      "text/html": [
       "Waiting for W&B process to finish... <strong style=\"color:green\">(success).</strong>"
      ],
      "text/plain": [
       "<IPython.core.display.HTML object>"
      ]
     },
     "metadata": {},
     "output_type": "display_data"
    },
    {
     "data": {
      "text/html": [
       "<style>\n",
       "    table.wandb td:nth-child(1) { padding: 0 10px; text-align: left ; width: auto;} td:nth-child(2) {text-align: left ; width: 100%}\n",
       "    .wandb-row { display: flex; flex-direction: row; flex-wrap: wrap; justify-content: flex-start; width: 100% }\n",
       "    .wandb-col { display: flex; flex-direction: column; flex-basis: 100%; flex: 1; padding: 10px; }\n",
       "    </style>\n",
       "<div class=\"wandb-row\"><div class=\"wandb-col\"><h3>Run history:</h3><br/><table class=\"wandb\"><tr><td>Epoch_loss</td><td>█▆▅▄▃▃▃▃▃▂▂▂▂▂▂▂▂▂▂▁▁▁▁▁▁▁▁▁▁▁▁▁▁▁▁▁▁▁▁▁</td></tr><tr><td>learning rate</td><td>▁▁▁▁▁▁▁▁▁▁▁▁▁▁▁▁▁▁▁▁▁▁▁▁▁▁▁▁▁▁▁▁▁▁▁▁▁▁▁▁</td></tr></table><br/></div><div class=\"wandb-col\"><h3>Run summary:</h3><br/><table class=\"wandb\"><tr><td>Epoch_loss</td><td>398.67578</td></tr><tr><td>learning rate</td><td>0.0002</td></tr></table><br/></div></div>"
      ],
      "text/plain": [
       "<IPython.core.display.HTML object>"
      ]
     },
     "metadata": {},
     "output_type": "display_data"
    },
    {
     "data": {
      "text/html": [
       " View run <strong style=\"color:#cdcd00\">bottle_teacher</strong> at: <a href='https://wandb.ai/crimama-/ASt_2d/runs/ptzbllt3' target=\"_blank\">https://wandb.ai/crimama-/ASt_2d/runs/ptzbllt3</a><br/>Synced 5 W&B file(s), 0 media file(s), 0 artifact file(s) and 0 other file(s)"
      ],
      "text/plain": [
       "<IPython.core.display.HTML object>"
      ]
     },
     "metadata": {},
     "output_type": "display_data"
    },
    {
     "data": {
      "text/html": [
       "Find logs at: <code>./wandb/run-20230329_084503-ptzbllt3/logs</code>"
      ],
      "text/plain": [
       "<IPython.core.display.HTML object>"
      ]
     },
     "metadata": {},
     "output_type": "display_data"
    }
   ],
   "source": [
    "from train_teacher import train as train_teacher \n",
    "all_classes = [d for d in os.listdir(c.dataset_dir) if os.path.isdir(os.path.join(c.dataset_dir, d))]\n",
    "all_classes.remove('.ipynb_checkpoints')\n",
    "all_classes.remove('split_csv')\n",
    "\n",
    "dataset_dir = c.dataset_dir\n",
    "mode = 'feature'\n",
    "train = 'train'\n",
    "img_transform =  transforms.Compose([transforms.ToTensor(),\n",
    "                                                transforms.Resize((c.img_size)),\n",
    "                                                transforms.Normalize(c.norm_mean,c.norm_std)])\n",
    "\n",
    "#for class_name in all_classes:\n",
    "for class_name in ['bottle']:\n",
    "    print(f'\\n Class : {class_name}')\n",
    "    save_dir = os.path.join('./saved_models',dataset_dir.split('/')[-1],class_name)\n",
    "    \n",
    "    trainset = CombiDataset(dataset_dir,class_name,mode,train,c.device,img_transform)\n",
    "    trainloader = make_loader(trainset,shuffle=True)\n",
    "    \n",
    "    teacher = Model().to(c.device)\n",
    "    train_teacher(teacher,trainloader,save_dir)\n",
    "    "
   ]
  },
  {
   "cell_type": "markdown",
   "metadata": {},
   "source": [
    "# Train Student "
   ]
  },
  {
   "cell_type": "code",
   "execution_count": 3,
   "metadata": {},
   "outputs": [
    {
     "name": "stdout",
     "output_type": "stream",
     "text": [
      "\t Class : bottle\n",
      "Loaded pretrained weights for efficientnet-b5\n"
     ]
    },
    {
     "data": {
      "text/html": [
       "Tracking run with wandb version 0.14.0"
      ],
      "text/plain": [
       "<IPython.core.display.HTML object>"
      ]
     },
     "metadata": {},
     "output_type": "display_data"
    },
    {
     "data": {
      "text/html": [
       "Run data is saved locally in <code>/Volume/VAD/ASt_2d/wandb/run-20230329_085417-nadf662u</code>"
      ],
      "text/plain": [
       "<IPython.core.display.HTML object>"
      ]
     },
     "metadata": {},
     "output_type": "display_data"
    },
    {
     "data": {
      "text/html": [
       "Syncing run <strong><a href='https://wandb.ai/crimama-/ASt_2d/runs/nadf662u' target=\"_blank\">bottle_student</a></strong> to <a href='https://wandb.ai/crimama-/ASt_2d' target=\"_blank\">Weights & Biases</a> (<a href='https://wandb.me/run' target=\"_blank\">docs</a>)<br/>"
      ],
      "text/plain": [
       "<IPython.core.display.HTML object>"
      ]
     },
     "metadata": {},
     "output_type": "display_data"
    },
    {
     "data": {
      "text/html": [
       " View project at <a href='https://wandb.ai/crimama-/ASt_2d' target=\"_blank\">https://wandb.ai/crimama-/ASt_2d</a>"
      ],
      "text/plain": [
       "<IPython.core.display.HTML object>"
      ]
     },
     "metadata": {},
     "output_type": "display_data"
    },
    {
     "data": {
      "text/html": [
       " View run at <a href='https://wandb.ai/crimama-/ASt_2d/runs/nadf662u' target=\"_blank\">https://wandb.ai/crimama-/ASt_2d/runs/nadf662u</a>"
      ],
      "text/plain": [
       "<IPython.core.display.HTML object>"
      ]
     },
     "metadata": {},
     "output_type": "display_data"
    },
    {
     "name": "stderr",
     "output_type": "stream",
     "text": [
      "  0%|          | 0/30 [00:00<?, ?it/s]"
     ]
    },
    {
     "name": "stdout",
     "output_type": "stream",
     "text": [
      "\n",
      "Train epoch 0\n",
      "Epoch: 0.0 \t train loss: 2.8800\n",
      "Epoch: 0.4 \t train loss: 1.2313\n",
      "Epoch: 0.8 \t train loss: 1.0619\n",
      "Epoch: 0.12 \t train loss: 0.8660\n",
      "Epoch: 0.16 \t train loss: 0.7229\n",
      "Epoch: 0.20 \t train loss: 0.5912\n"
     ]
    },
    {
     "name": "stderr",
     "output_type": "stream",
     "text": [
      "  3%|▎         | 1/30 [02:46<1:20:41, 166.94s/it]"
     ]
    },
    {
     "name": "stdout",
     "output_type": "stream",
     "text": [
      "\n",
      "Train epoch 1\n",
      "Epoch: 1.0 \t train loss: 0.4825\n",
      "Epoch: 1.4 \t train loss: 0.3960\n",
      "Epoch: 1.8 \t train loss: 0.3322\n",
      "Epoch: 1.12 \t train loss: 0.2861\n",
      "Epoch: 1.16 \t train loss: 0.2409\n",
      "Epoch: 1.20 \t train loss: 0.2041\n"
     ]
    },
    {
     "name": "stderr",
     "output_type": "stream",
     "text": [
      "  7%|▋         | 2/30 [05:23<1:15:03, 160.85s/it]"
     ]
    },
    {
     "name": "stdout",
     "output_type": "stream",
     "text": [
      "\n",
      "Train epoch 2\n",
      "Epoch: 2.0 \t train loss: 0.1834\n",
      "Epoch: 2.4 \t train loss: 0.1733\n",
      "Epoch: 2.8 \t train loss: 0.1506\n"
     ]
    }
   ],
   "source": [
    "from train_student import train as train_student\n",
    "all_classes = [d for d in os.listdir(c.dataset_dir) if os.path.isdir(os.path.join(c.dataset_dir, d))]\n",
    "all_classes.remove('.ipynb_checkpoints')\n",
    "all_classes.remove('split_csv')\n",
    "\n",
    "\n",
    "dataset_dir = c.dataset_dir\n",
    "mode = 'feature'\n",
    "train = 'train'\n",
    "img_transform =  transforms.Compose([transforms.ToTensor(),\n",
    "                                                transforms.Resize((c.img_size)),\n",
    "                                                transforms.Normalize(c.norm_mean,c.norm_std)])\n",
    "\n",
    "\n",
    "#for class_name in all_classes:\n",
    "for class_name in ['bottle']:\n",
    "    print(f'\\t Class : {class_name}')\n",
    "    save_dir = os.path.join('./saved_models',dataset_dir.split('/')[-1],class_name) \n",
    "    teacher = torch.load(f'./saved_models/MVtecAD/{class_name}/teacher_best_new.pt').to(c.device)\n",
    "    student = Model(nf=not c.asymmetric_student, channels_hidden=c.channels_hidden_student, n_blocks=c.n_st_blocks).to(c.device)\n",
    "    \n",
    "    trainset = CombiDataset(dataset_dir,class_name,mode,train,c.device,img_transform)\n",
    "    trainloader = make_loader(trainset,shuffle=True)\n",
    "    \n",
    "    train_student(teacher,student,trainloader,save_dir)"
   ]
  },
  {
   "cell_type": "markdown",
   "metadata": {},
   "source": [
    "# Eval "
   ]
  },
  {
   "cell_type": "code",
   "execution_count": 6,
   "metadata": {},
   "outputs": [
    {
     "name": "stdout",
     "output_type": "stream",
     "text": [
      "\n",
      " Class : bottle\n",
      "Loaded pretrained weights for efficientnet-b5\n"
     ]
    }
   ],
   "source": [
    "import config as c \n",
    "from src.data import CombiDataset,make_loader,downsampling\n",
    "from src.model import Model \n",
    "from src.freia_funcs import * \n",
    "from src.utils import * \n",
    "from tqdm import tqdm \n",
    "import tifffile  \n",
    "import os \n",
    "import pandas as pd \n",
    "import torch.nn.functional as F \n",
    "from torchvision import transforms \n",
    "\n",
    "from eval import eval,eval_pixel\n",
    "score = {} \n",
    "all_classes = [d for d in os.listdir(c.dataset_dir) if os.path.isdir(os.path.join(c.dataset_dir, d))]\n",
    "all_classes.remove('.ipynb_checkpoints')\n",
    "all_classes.remove('split_csv')\n",
    "dataset_dir = c.dataset_dir\n",
    "mode = c.data_mode\n",
    "img_transform =  transforms.Compose([transforms.ToTensor(),\n",
    "                                                transforms.Resize((c.img_size)),\n",
    "                                                transforms.Normalize(c.norm_mean,c.norm_std)])\n",
    "#for class_name in all_classes:\n",
    "for class_name in ['bottle']:\n",
    "    print(f'\\n Class : {class_name}')\n",
    "    save_dir = os.path.join('./saved_models',dataset_dir.split('/')[-1],class_name)\n",
    "\n",
    "\n",
    "    testset = CombiDataset(dataset_dir,class_name,mode,'test',c.device,img_transform)\n",
    "    testloader = make_loader(testset)\n",
    "\n",
    "    teacher = torch.load(f'./saved_models/MVtecAD/{class_name}/teacher_best_new.pt')\n",
    "    student = torch.load(f'./saved_models/MVtecAD/{class_name}/student_best_new.pt')\n",
    "\n",
    "    mean_img_auc,max_img_auc = eval(teacher,student,testloader)\n",
    "    pixel_auroc = eval_pixel(teacher,student,testloader)\n",
    "    \n",
    "    score[class_name] = {'max' : max_img_auc,'mean' : mean_img_auc,'pixel':pixel_auroc}\n",
    "    \n",
    "    "
   ]
  },
  {
   "cell_type": "code",
   "execution_count": 5,
   "metadata": {},
   "outputs": [
    {
     "data": {
      "text/html": [
       "<div>\n",
       "<style scoped>\n",
       "    .dataframe tbody tr th:only-of-type {\n",
       "        vertical-align: middle;\n",
       "    }\n",
       "\n",
       "    .dataframe tbody tr th {\n",
       "        vertical-align: top;\n",
       "    }\n",
       "\n",
       "    .dataframe thead th {\n",
       "        text-align: right;\n",
       "    }\n",
       "</style>\n",
       "<table border=\"1\" class=\"dataframe\">\n",
       "  <thead>\n",
       "    <tr style=\"text-align: right;\">\n",
       "      <th></th>\n",
       "      <th>mean</th>\n",
       "      <th>max</th>\n",
       "      <th>pixel</th>\n",
       "    </tr>\n",
       "  </thead>\n",
       "  <tbody>\n",
       "    <tr>\n",
       "      <th>bottle</th>\n",
       "      <td>0.969841</td>\n",
       "      <td>0.97381</td>\n",
       "      <td>0.872044</td>\n",
       "    </tr>\n",
       "    <tr>\n",
       "      <th>AVerage</th>\n",
       "      <td>0.969841</td>\n",
       "      <td>0.97381</td>\n",
       "      <td>0.872044</td>\n",
       "    </tr>\n",
       "  </tbody>\n",
       "</table>\n",
       "</div>"
      ],
      "text/plain": [
       "             mean      max     pixel\n",
       "bottle   0.969841  0.97381  0.872044\n",
       "AVerage  0.969841  0.97381  0.872044"
      ]
     },
     "execution_count": 5,
     "metadata": {},
     "output_type": "execute_result"
    }
   ],
   "source": [
    "mean_value = []                     \n",
    "max_value = [] \n",
    "pixel_value = [] \n",
    "for i in score.keys():\n",
    "    mean_value.append(score[i]['mean'])\n",
    "    max_value.append(score[i]['max'])\n",
    "    pixel_value.append(score[i]['pixel'])\n",
    "\n",
    "df = pd.DataFrame([mean_value,max_value,pixel_value]).T\n",
    "df.columns = ['mean','max','pixel']\n",
    "df.index = score.keys()\n",
    "df.loc['AVerage'] = np.mean(df).values\n",
    "df"
   ]
  },
  {
   "cell_type": "markdown",
   "metadata": {},
   "source": [
    "# Pixel-Level "
   ]
  }
 ],
 "metadata": {
  "kernelspec": {
   "display_name": "Python 3 (ipykernel)",
   "language": "python",
   "name": "python3"
  },
  "language_info": {
   "codemirror_mode": {
    "name": "ipython",
    "version": 3
   },
   "file_extension": ".py",
   "mimetype": "text/x-python",
   "name": "python",
   "nbconvert_exporter": "python",
   "pygments_lexer": "ipython3",
   "version": "3.7.7"
  }
 },
 "nbformat": 4,
 "nbformat_minor": 4
}
