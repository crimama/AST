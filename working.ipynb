{
 "cells": [
  {
   "cell_type": "code",
   "execution_count": 1,
   "metadata": {},
   "outputs": [
    {
     "name": "stdout",
     "output_type": "stream",
     "text": [
      "my_experiment\n"
     ]
    },
    {
     "name": "stderr",
     "output_type": "stream",
     "text": [
      "/usr/local/lib/python3.8/dist-packages/tqdm/auto.py:22: TqdmWarning: IProgress not found. Please update jupyter and ipywidgets. See https://ipywidgets.readthedocs.io/en/stable/user_install.html\n",
      "  from .autonotebook import tqdm as notebook_tqdm\n"
     ]
    }
   ],
   "source": [
    "import config as c \n",
    "from src.data import CombiDataset,make_loader,downsampling\n",
    "from src.model import Model \n",
    "from src.freia_funcs import * \n",
    "from src.utils import * \n",
    "from tqdm import tqdm \n",
    "import tifffile  \n",
    "import os \n",
    "import pandas as pd \n",
    "import torch.nn.functional as F \n",
    "\n"
   ]
  },
  {
   "cell_type": "markdown",
   "metadata": {},
   "source": [
    "# Eval "
   ]
  },
  {
   "cell_type": "code",
   "execution_count": 2,
   "metadata": {},
   "outputs": [
    {
     "name": "stdout",
     "output_type": "stream",
     "text": [
      "\n",
      " Class : foam\n",
      "Loaded pretrained weights for efficientnet-b5\n",
      "\n",
      " Class : tire\n",
      "Loaded pretrained weights for efficientnet-b5\n",
      "\n",
      " Class : peach\n",
      "Loaded pretrained weights for efficientnet-b5\n",
      "\n",
      " Class : cable_gland\n",
      "Loaded pretrained weights for efficientnet-b5\n",
      "\n",
      " Class : carrot\n",
      "Loaded pretrained weights for efficientnet-b5\n",
      "\n",
      " Class : rope\n",
      "Loaded pretrained weights for efficientnet-b5\n",
      "\n",
      " Class : potato\n",
      "Loaded pretrained weights for efficientnet-b5\n",
      "\n",
      " Class : cookie\n",
      "Loaded pretrained weights for efficientnet-b5\n",
      "\n",
      " Class : bagel\n",
      "Loaded pretrained weights for efficientnet-b5\n",
      "\n",
      " Class : dowel\n",
      "Loaded pretrained weights for efficientnet-b5\n"
     ]
    }
   ],
   "source": [
    "from eval import eval \n",
    "score = {} \n",
    "all_classes = [d for d in os.listdir(c.dataset_dir) if os.path.isdir(os.path.join(c.dataset_dir, d))]\n",
    "\n",
    "dataset_dir = c.dataset_dir\n",
    "mode = c.data_mode\n",
    "for class_name in all_classes:\n",
    "#for class_name in ['grid']:\n",
    "    print(f'\\n Class : {class_name}')\n",
    "    save_dir = os.path.join('./saved_models',dataset_dir.split('/')[-1],class_name)\n",
    "\n",
    "\n",
    "    testset = CombiDataset(dataset_dir,class_name,mode,'test',device=c.device)\n",
    "    testloader = make_loader(testset)\n",
    "\n",
    "    teacher = torch.load(f'{save_dir}/teacher_best.pt')\n",
    "    student = torch.load(f'{save_dir}/student_best.pt')\n",
    "\n",
    "    mean_img_auc,max_img_auc = eval(teacher,student,testloader)\n",
    "    score[class_name] = {'max' : max_img_auc,'mean' : mean_img_auc}\n",
    "    \n",
    "    "
   ]
  },
  {
   "cell_type": "code",
   "execution_count": 5,
   "metadata": {},
   "outputs": [
    {
     "name": "stderr",
     "output_type": "stream",
     "text": [
      "/usr/local/lib/python3.8/dist-packages/numpy/core/fromnumeric.py:3472: FutureWarning: In a future version, DataFrame.mean(axis=None) will return a scalar mean over the entire DataFrame. To retain the old behavior, use 'frame.mean(axis=0)' or just 'frame.mean()'\n",
      "  return mean(axis=axis, dtype=dtype, out=out, **kwargs)\n"
     ]
    }
   ],
   "source": [
    "mean_value = [] \n",
    "max_value = [] \n",
    "for i in score.keys():\n",
    "    mean_value.append(score[i]['mean'])\n",
    "    max_value.append(score[i]['max'])\n",
    "\n",
    "df = pd.DataFrame([mean_value,max_value]).T\n",
    "df.columns = ['mean','max']\n",
    "df.index = score.keys()\n",
    "df.loc['AVerage'] = np.mean(df).values\n",
    "df.to_csv('./result.csv')"
   ]
  },
  {
   "cell_type": "code",
   "execution_count": 8,
   "metadata": {},
   "outputs": [
    {
     "data": {
      "text/plain": [
       "'/Volume/VAD/AST_3d'"
      ]
     },
     "execution_count": 8,
     "metadata": {},
     "output_type": "execute_result"
    }
   ],
   "source": [
    "pwd"
   ]
  }
 ],
 "metadata": {
  "kernelspec": {
   "display_name": "Python 3 (ipykernel)",
   "language": "python",
   "name": "python3"
  },
  "language_info": {
   "codemirror_mode": {
    "name": "ipython",
    "version": 3
   },
   "file_extension": ".py",
   "mimetype": "text/x-python",
   "name": "python",
   "nbconvert_exporter": "python",
   "pygments_lexer": "ipython3",
   "version": "3.8.10"
  }
 },
 "nbformat": 4,
 "nbformat_minor": 4
}
