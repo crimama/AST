{
 "cells": [
  {
   "attachments": {},
   "cell_type": "markdown",
   "metadata": {},
   "source": [
    "# Init "
   ]
  },
  {
   "cell_type": "code",
   "execution_count": 1,
   "metadata": {},
   "outputs": [
    {
     "name": "stdout",
     "output_type": "stream",
     "text": [
      "my_experiment\n"
     ]
    },
    {
     "name": "stderr",
     "output_type": "stream",
     "text": [
      "/usr/local/lib/python3.8/dist-packages/tqdm/auto.py:22: TqdmWarning: IProgress not found. Please update jupyter and ipywidgets. See https://ipywidgets.readthedocs.io/en/stable/user_install.html\n",
      "  from .autonotebook import tqdm as notebook_tqdm\n"
     ]
    }
   ],
   "source": [
    "import config as c \n",
    "from src.data import CombiDataset,make_loader,downsampling\n",
    "from src.model import Model \n",
    "from src.freia_funcs import * \n",
    "from src.utils import * \n",
    "from tqdm import tqdm \n",
    "import tifffile  \n",
    "import os \n",
    "import pandas as pd \n",
    "import torch.nn.functional as F \n",
    "\n",
    "dataset_dir = c.dataset_dir\n",
    "class_name = 'bottle'\n",
    "mode = 'feature'\n",
    "train = 'train'"
   ]
  },
  {
   "attachments": {},
   "cell_type": "markdown",
   "metadata": {},
   "source": [
    "# Train Teacher "
   ]
  },
  {
   "cell_type": "code",
   "execution_count": null,
   "metadata": {},
   "outputs": [],
   "source": [
    "from train_teacher import train as train_teacher \n",
    "all_classes = [d for d in os.listdir(c.dataset_dir) if os.path.isdir(os.path.join(c.dataset_dir, d))]\n",
    "all_classes.remove('.ipynb_checkpoints')\n",
    "all_classes.remove('split_csv')\n",
    "for class_name in all_classes:\n",
    "    print(f'\\n Class : {class_name}')\n",
    "    save_dir = os.path.join('./saved_models',dataset_dir.split('/')[-1],class_name)\n",
    "    \n",
    "    trainset = CombiDataset(dataset_dir,class_name,mode,train,device=c.device)\n",
    "    trainloader = make_loader(trainset,shuffle=True)\n",
    "    \n",
    "    teacher = Model().to(c.device)\n",
    "    train_teacher(teacher,trainloader,save_dir)"
   ]
  },
  {
   "cell_type": "markdown",
   "metadata": {},
   "source": [
    "# Train Student "
   ]
  },
  {
   "cell_type": "code",
   "execution_count": null,
   "metadata": {},
   "outputs": [],
   "source": [
    "from train_student import train as train_student\n",
    "all_classes = [d for d in os.listdir(c.dataset_dir) if os.path.isdir(os.path.join(c.dataset_dir, d))]\n",
    "all_classes.remove('.ipynb_checkpoints')\n",
    "all_classes.remove('split_csv')\n",
    "for class_name in all_classes:\n",
    "    print(f'\\t Class : {class_name}')\n",
    "    save_dir = os.path.join('./saved_models',dataset_dir.split('/')[-1],class_name) \n",
    "    teacher = torch.load(f'./saved_models/MVtecAD/{class_name}/teacher_best.pt').to(c.device)\n",
    "    student = Model(nf=not c.asymmetric_student, channels_hidden=c.channels_hidden_student, n_blocks=c.n_st_blocks).to(c.device)\n",
    "    train_student(teacher,student,trainloader,save_dir)"
   ]
  },
  {
   "cell_type": "markdown",
   "metadata": {},
   "source": [
    "# Eval "
   ]
  },
  {
   "cell_type": "code",
   "execution_count": null,
   "metadata": {},
   "outputs": [],
   "source": [
    "from eval import eval \n",
    "score = {} \n",
    "all_classes = [d for d in os.listdir(c.dataset_dir) if os.path.isdir(os.path.join(c.dataset_dir, d))]\n",
    "all_classes.remove('.ipynb_checkpoints')\n",
    "all_classes.remove('split_csv')\n",
    "\n",
    "for class_name in all_classes:\n",
    "    print(f'\\n Class : {class_name}')\n",
    "    save_dir = os.path.join('./saved_models',dataset_dir.split('/')[-1],class_name)\n",
    "\n",
    "\n",
    "    testset = CombiDataset(dataset_dir,class_name,mode,'test',device=c.device)\n",
    "    testloader = make_loader(testset)\n",
    "\n",
    "    teacher = torch.load(f'./saved_models/MVtecAD/{class_name}/teacher_best.pt')\n",
    "    student = torch.load(f'./saved_models/MVtecAD/{class_name}/student_best.pt')\n",
    "\n",
    "    mean_img_auc,max_img_auc = eval(teacher,student,testloader)\n",
    "    score[class_name] = {'max' : max_img_auc,'mean' : mean_img_auc}\n",
    "    \n",
    "    "
   ]
  }
 ],
 "metadata": {
  "kernelspec": {
   "display_name": "Python 3 (ipykernel)",
   "language": "python",
   "name": "python3"
  },
  "language_info": {
   "codemirror_mode": {
    "name": "ipython",
    "version": 3
   },
   "file_extension": ".py",
   "mimetype": "text/x-python",
   "name": "python",
   "nbconvert_exporter": "python",
   "pygments_lexer": "ipython3",
   "version": "3.8.10"
  }
 },
 "nbformat": 4,
 "nbformat_minor": 4
}
